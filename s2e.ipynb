{
 "cells": [
  {
   "cell_type": "code",
   "execution_count": 9,
   "metadata": {},
   "outputs": [],
   "source": [
    "import tweepy\n",
    "import pandas as pd\n",
    "import time"
   ]
  },
  {
   "cell_type": "code",
   "execution_count": 10,
   "metadata": {},
   "outputs": [],
   "source": [
    "consumer_key = \"KtLhlA9OLeBaQsRUm3mRDf6Cs\"\n",
    "consumer_secret = \"kATKr6MLPKC5GBSn5N71CL2owq2ZcSl2dUf7RXr4bQvDxBYpn4\"\n",
    "access_token = \"1434155990237290503-d1vQIcrSgOlv3vmQlsOw506VvIGxP1\"\n",
    "access_token_secret = \"g5N7smm4sQkvQbJCklLgvDiPnXxEWCKZxkTZVqLJqiRVn\"\n",
    "auth = tweepy.OAuthHandler(consumer_key, consumer_secret)\n",
    "auth.set_access_token(access_token, access_token_secret)\n",
    "api = tweepy.API(auth,wait_on_rate_limit=True)\n",
    "\n"
   ]
  },
  {
   "cell_type": "code",
   "execution_count": 39,
   "metadata": {},
   "outputs": [],
   "source": [
    "username = 'OrcRacingClub'\n",
    "since_id = \"1521773193819680769\"     \n",
    "# Creation of query method using parameters\n",
    "tweets = api.user_timeline(user_id=username,since_id=since_id)\n",
    "\n",
    "# Pulling information from tweets iterable object\n",
    "tweets_list = [[tweet.created_at, tweet.id, tweet.text, tweet.retweet_count, tweet.favorite_count] for tweet in tweets]\n",
    "\n",
    "\n",
    "# Creation of dataframe from tweets list\n",
    "# Add or remove columns as you remove tweet information\n",
    "tweets_df = pd.DataFrame(tweets_list)\n"
   ]
  },
  {
   "cell_type": "code",
   "execution_count": 40,
   "metadata": {},
   "outputs": [
    {
     "ename": "IndexError",
     "evalue": "list index out of range",
     "output_type": "error",
     "traceback": [
      "\u001b[0;31m---------------------------------------------------------------------------\u001b[0m",
      "\u001b[0;31mIndexError\u001b[0m                                Traceback (most recent call last)",
      "\u001b[1;32m/Users/rhyanneverett/Documents/GitHub/share-2-earn/s2e.ipynb Cell 4'\u001b[0m in \u001b[0;36m<cell line: 1>\u001b[0;34m()\u001b[0m\n\u001b[0;32m----> <a href='vscode-notebook-cell:/Users/rhyanneverett/Documents/GitHub/share-2-earn/s2e.ipynb#ch0000003?line=0'>1</a>\u001b[0m tweets_list[\u001b[39m5\u001b[39;49m]\n",
      "\u001b[0;31mIndexError\u001b[0m: list index out of range"
     ]
    }
   ],
   "source": [
    "tweets_list[5]"
   ]
  },
  {
   "cell_type": "code",
   "execution_count": 43,
   "metadata": {},
   "outputs": [
    {
     "name": "stdout",
     "output_type": "stream",
     "text": [
      "RT @LofferPoffer: Come with me if you want to #zugzug\n",
      "- Darth VadOrc\n",
      "\n",
      "@OrcRacingClub \n",
      "#OrcInvasion\n",
      "#MayTheHorde\n",
      "#MayThe4thBeWithYou https:/…\n"
     ]
    }
   ],
   "source": [
    "print(tweets_df.at[2,2])\n"
   ]
  },
  {
   "cell_type": "code",
   "execution_count": null,
   "metadata": {},
   "outputs": [],
   "source": []
  }
 ],
 "metadata": {
  "interpreter": {
   "hash": "31f2aee4e71d21fbe5cf8b01ff0e069b9275f58929596ceb00d14d90e3e16cd6"
  },
  "kernelspec": {
   "display_name": "Python 3.8.2 64-bit",
   "language": "python",
   "name": "python3"
  },
  "language_info": {
   "codemirror_mode": {
    "name": "ipython",
    "version": 3
   },
   "file_extension": ".py",
   "mimetype": "text/x-python",
   "name": "python",
   "nbconvert_exporter": "python",
   "pygments_lexer": "ipython3",
   "version": "3.8.2"
  },
  "orig_nbformat": 4
 },
 "nbformat": 4,
 "nbformat_minor": 2
}
